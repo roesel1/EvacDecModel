{
 "cells": [
  {
   "cell_type": "code",
   "id": "initial_id",
   "metadata": {
    "collapsed": true,
    "ExecuteTime": {
     "end_time": "2025-07-30T12:33:45.817821Z",
     "start_time": "2025-07-30T12:33:44.632928Z"
    }
   },
   "source": [
    "import geopandas as gpd\n",
    "# import fiona as fiona\n",
    "import helper_functions\n",
    "import pandas as pd\n",
    "import matplotlib.pyplot as plt"
   ],
   "outputs": [],
   "execution_count": 1
  },
  {
   "cell_type": "code",
   "source": [
    "gpd.read_file(\"./ACSDATA/ASC_data.gpkg\", layer='Data')"
   ],
   "metadata": {
    "collapsed": false,
    "ExecuteTime": {
     "end_time": "2025-07-30T12:34:12.552435Z",
     "start_time": "2025-07-30T12:33:46.076839Z"
    }
   },
   "id": "859b6d045d0de3a8",
   "outputs": [
    {
     "data": {
      "text/plain": [
       "             State                               County                 NAME  \\\n",
       "0           Hawaii                        Hawaii County     Census Tract 201   \n",
       "1           Hawaii                        Hawaii County  Census Tract 202.02   \n",
       "2           Hawaii                        Hawaii County     Census Tract 203   \n",
       "3           Hawaii                        Hawaii County     Census Tract 204   \n",
       "4           Hawaii                        Hawaii County     Census Tract 205   \n",
       "...            ...                                  ...                  ...   \n",
       "85029  Connecticut  Western Connecticut Planning Region    Census Tract 2532   \n",
       "85030  Connecticut  Western Connecticut Planning Region    Census Tract 2534   \n",
       "85031  Connecticut  Western Connecticut Planning Region    Census Tract 2535   \n",
       "85032  Connecticut  Western Connecticut Planning Region    Census Tract 2571   \n",
       "85033  Connecticut  Western Connecticut Planning Region    Census Tract 4257   \n",
       "\n",
       "             GEOID                                           geometry  \n",
       "0      15001020100  MULTIPOLYGON (((-17264972.471 2244290.771, -17...  \n",
       "1      15001020202  MULTIPOLYGON (((-17264972.471 2244290.771, -17...  \n",
       "2      15001020300  MULTIPOLYGON (((-17264586.638 2241559.947, -17...  \n",
       "3      15001020400  MULTIPOLYGON (((-17263053.212 2239295.54, -172...  \n",
       "4      15001020500  MULTIPOLYGON (((-17261894.265 2236946.51, -172...  \n",
       "...            ...                                                ...  \n",
       "85029   9190253200  MULTIPOLYGON (((-8165131.061 5100532.65, -8165...  \n",
       "85030   9190253400  MULTIPOLYGON (((-8176393.481 5102767.326, -817...  \n",
       "85031   9190253500  MULTIPOLYGON (((-8166057.351 5106287.055, -816...  \n",
       "85032   9190257100  MULTIPOLYGON (((-8182753.388 5111050.183, -818...  \n",
       "85033   9190425700  MULTIPOLYGON (((-8173078.496 5098736.472, -817...  \n",
       "\n",
       "[85034 rows x 5 columns]"
      ],
      "text/html": [
       "<div>\n",
       "<style scoped>\n",
       "    .dataframe tbody tr th:only-of-type {\n",
       "        vertical-align: middle;\n",
       "    }\n",
       "\n",
       "    .dataframe tbody tr th {\n",
       "        vertical-align: top;\n",
       "    }\n",
       "\n",
       "    .dataframe thead th {\n",
       "        text-align: right;\n",
       "    }\n",
       "</style>\n",
       "<table border=\"1\" class=\"dataframe\">\n",
       "  <thead>\n",
       "    <tr style=\"text-align: right;\">\n",
       "      <th></th>\n",
       "      <th>State</th>\n",
       "      <th>County</th>\n",
       "      <th>NAME</th>\n",
       "      <th>GEOID</th>\n",
       "      <th>geometry</th>\n",
       "    </tr>\n",
       "  </thead>\n",
       "  <tbody>\n",
       "    <tr>\n",
       "      <th>0</th>\n",
       "      <td>Hawaii</td>\n",
       "      <td>Hawaii County</td>\n",
       "      <td>Census Tract 201</td>\n",
       "      <td>15001020100</td>\n",
       "      <td>MULTIPOLYGON (((-17264972.471 2244290.771, -17...</td>\n",
       "    </tr>\n",
       "    <tr>\n",
       "      <th>1</th>\n",
       "      <td>Hawaii</td>\n",
       "      <td>Hawaii County</td>\n",
       "      <td>Census Tract 202.02</td>\n",
       "      <td>15001020202</td>\n",
       "      <td>MULTIPOLYGON (((-17264972.471 2244290.771, -17...</td>\n",
       "    </tr>\n",
       "    <tr>\n",
       "      <th>2</th>\n",
       "      <td>Hawaii</td>\n",
       "      <td>Hawaii County</td>\n",
       "      <td>Census Tract 203</td>\n",
       "      <td>15001020300</td>\n",
       "      <td>MULTIPOLYGON (((-17264586.638 2241559.947, -17...</td>\n",
       "    </tr>\n",
       "    <tr>\n",
       "      <th>3</th>\n",
       "      <td>Hawaii</td>\n",
       "      <td>Hawaii County</td>\n",
       "      <td>Census Tract 204</td>\n",
       "      <td>15001020400</td>\n",
       "      <td>MULTIPOLYGON (((-17263053.212 2239295.54, -172...</td>\n",
       "    </tr>\n",
       "    <tr>\n",
       "      <th>4</th>\n",
       "      <td>Hawaii</td>\n",
       "      <td>Hawaii County</td>\n",
       "      <td>Census Tract 205</td>\n",
       "      <td>15001020500</td>\n",
       "      <td>MULTIPOLYGON (((-17261894.265 2236946.51, -172...</td>\n",
       "    </tr>\n",
       "    <tr>\n",
       "      <th>...</th>\n",
       "      <td>...</td>\n",
       "      <td>...</td>\n",
       "      <td>...</td>\n",
       "      <td>...</td>\n",
       "      <td>...</td>\n",
       "    </tr>\n",
       "    <tr>\n",
       "      <th>85029</th>\n",
       "      <td>Connecticut</td>\n",
       "      <td>Western Connecticut Planning Region</td>\n",
       "      <td>Census Tract 2532</td>\n",
       "      <td>9190253200</td>\n",
       "      <td>MULTIPOLYGON (((-8165131.061 5100532.65, -8165...</td>\n",
       "    </tr>\n",
       "    <tr>\n",
       "      <th>85030</th>\n",
       "      <td>Connecticut</td>\n",
       "      <td>Western Connecticut Planning Region</td>\n",
       "      <td>Census Tract 2534</td>\n",
       "      <td>9190253400</td>\n",
       "      <td>MULTIPOLYGON (((-8176393.481 5102767.326, -817...</td>\n",
       "    </tr>\n",
       "    <tr>\n",
       "      <th>85031</th>\n",
       "      <td>Connecticut</td>\n",
       "      <td>Western Connecticut Planning Region</td>\n",
       "      <td>Census Tract 2535</td>\n",
       "      <td>9190253500</td>\n",
       "      <td>MULTIPOLYGON (((-8166057.351 5106287.055, -816...</td>\n",
       "    </tr>\n",
       "    <tr>\n",
       "      <th>85032</th>\n",
       "      <td>Connecticut</td>\n",
       "      <td>Western Connecticut Planning Region</td>\n",
       "      <td>Census Tract 2571</td>\n",
       "      <td>9190257100</td>\n",
       "      <td>MULTIPOLYGON (((-8182753.388 5111050.183, -818...</td>\n",
       "    </tr>\n",
       "    <tr>\n",
       "      <th>85033</th>\n",
       "      <td>Connecticut</td>\n",
       "      <td>Western Connecticut Planning Region</td>\n",
       "      <td>Census Tract 4257</td>\n",
       "      <td>9190425700</td>\n",
       "      <td>MULTIPOLYGON (((-8173078.496 5098736.472, -817...</td>\n",
       "    </tr>\n",
       "  </tbody>\n",
       "</table>\n",
       "<p>85034 rows × 5 columns</p>\n",
       "</div>"
      ]
     },
     "execution_count": 2,
     "metadata": {},
     "output_type": "execute_result"
    }
   ],
   "execution_count": 2
  },
  {
   "cell_type": "code",
   "source": [
    "gdf = helper_functions.agent_init_data([\"Texas\"], [\"Harris County\"])"
   ],
   "metadata": {
    "collapsed": false,
    "ExecuteTime": {
     "end_time": "2025-07-30T12:34:12.843446Z",
     "start_time": "2025-07-30T12:34:12.602338Z"
    }
   },
   "id": "b0a5e25c42a37067",
   "outputs": [],
   "execution_count": 3
  },
  {
   "cell_type": "code",
   "source": [
    "Harris_stats = gdf.drop(columns=\"geometry\").groupby(by = \"County\").sum()"
   ],
   "metadata": {
    "collapsed": false,
    "ExecuteTime": {
     "end_time": "2025-07-30T12:34:13.040269Z",
     "start_time": "2025-07-30T12:34:12.916914Z"
    }
   },
   "id": "99751de1b5ec525d",
   "outputs": [],
   "execution_count": 4
  },
  {
   "cell_type": "code",
   "source": [
    "stat_list = []\n",
    "for i in [[15, 31], [32, 38], [39, 58], [60, 76]]:\n",
    "     a = gdf[gdf.columns[i[0]:i[1]]]\n",
    "     if i == [15,31]:\n",
    "          high_school = a[a.columns[2:8]].sum(axis=1)\n",
    "          a = a.drop(columns=a.columns[[2, 3, 4, 5, 6, 7]])\n",
    "          a[\"Some Highschool\"] = high_school\n",
    "     stat_list.append(a.sum(0)/len(a))\n",
    "     # df = pd.DataFrame({\n",
    "     #     **{str(i): range(5) for i in range(10, 35)}  # Columns 10 to 34 as strings\n",
    "     # })\n",
    "     \n",
    "     # Drop columns with names in the range 15 to 31\n",
    "     # cols_to_drop = [str(i) for i in range(15, 32)]\n",
    "     # df = df.drop(columns=cols_to_drop)\n",
    "     \n",
    "     # print(df.head())\n",
    "     \n",
    "\n",
    "\n",
    "     # Plot the Series as a bar chart\n",
    "     # a.plot(kind='bar', title='Fruit Sales')\n",
    "     # plt.tight_layout()\n",
    "     # plt.show()\n",
    "\n"
   ],
   "metadata": {
    "collapsed": false,
    "ExecuteTime": {
     "end_time": "2025-07-30T12:34:13.109283Z",
     "start_time": "2025-07-30T12:34:13.094214Z"
    }
   },
   "id": "ed168ec6b803006c",
   "outputs": [],
   "execution_count": 5
  },
  {
   "cell_type": "code",
   "source": [
    "stat_list[2]\n"
   ],
   "metadata": {
    "collapsed": false,
    "ExecuteTime": {
     "end_time": "2025-07-30T12:34:13.208016Z",
     "start_time": "2025-07-30T12:34:13.201040Z"
    }
   },
   "id": "dfa583eb221caab7",
   "outputs": [
    {
     "data": {
      "text/plain": [
       "18 and 19 years      0.034145\n",
       "20 years             0.016142\n",
       "21 years             0.017568\n",
       "22 to 24 years       0.058904\n",
       "25 to 29 years       0.106595\n",
       "30 to 34 years       0.108266\n",
       "35 to 39 years       0.100576\n",
       "40 to 44 years       0.092443\n",
       "45 to 49 years       0.084352\n",
       "50 to 54 years       0.079435\n",
       "55 to 59 years       0.073892\n",
       "60 and 61 years      0.029753\n",
       "62 to 64 years       0.040832\n",
       "65 and 66 years      0.023922\n",
       "67 to 69 years       0.032198\n",
       "70 to 74 years       0.042584\n",
       "75 to 79 years       0.026983\n",
       "80 to 84 years       0.016337\n",
       "85 years and over    0.015073\n",
       "dtype: float64"
      ]
     },
     "execution_count": 6,
     "metadata": {},
     "output_type": "execute_result"
    }
   ],
   "execution_count": 6
  },
  {
   "cell_type": "code",
   "source": [
    "stat_list[1]"
   ],
   "metadata": {
    "collapsed": false,
    "ExecuteTime": {
     "end_time": "2025-07-30T12:34:13.299244Z",
     "start_time": "2025-07-30T12:34:13.292147Z"
    }
   },
   "id": "65672dd0dda3a5fc",
   "outputs": [
    {
     "data": {
      "text/plain": [
       "White alone                                         0.490130\n",
       "Black or African American alone                     0.238123\n",
       "American Indian and Alaska Native alone             0.011002\n",
       "Asian alone                                         0.084580\n",
       "Native Hawaiian and Other Pacific Islander alone    0.001021\n",
       "Some other race alone                               0.175144\n",
       "dtype: float64"
      ]
     },
     "execution_count": 7,
     "metadata": {},
     "output_type": "execute_result"
    }
   ],
   "execution_count": 7
  },
  {
   "cell_type": "code",
   "source": [
    "[display(i) for i in stat_list]"
   ],
   "metadata": {
    "collapsed": false,
    "ExecuteTime": {
     "end_time": "2025-07-30T12:34:13.430356Z",
     "start_time": "2025-07-30T12:34:13.414715Z"
    }
   },
   "id": "792c1993c41b0a4e",
   "outputs": [
    {
     "data": {
      "text/plain": [
       "No schooling completed                         0.039930\n",
       "Nursery to 4th grade                           0.019994\n",
       "High school graduate (includes equivalency)    0.229646\n",
       "Some college, less than 1 year                 0.054352\n",
       "Some college, 1 or more years, no degree       0.128183\n",
       "Associate's degree                             0.069238\n",
       "Bachelor's degree                              0.200473\n",
       "Master's degree                                0.085016\n",
       "Professional school degree                     0.025779\n",
       "Doctorate degree                               0.016192\n",
       "Some Highschool                                0.131198\n",
       "dtype: float64"
      ]
     },
     "metadata": {},
     "output_type": "display_data"
    },
    {
     "data": {
      "text/plain": [
       "White alone                                         0.490130\n",
       "Black or African American alone                     0.238123\n",
       "American Indian and Alaska Native alone             0.011002\n",
       "Asian alone                                         0.084580\n",
       "Native Hawaiian and Other Pacific Islander alone    0.001021\n",
       "Some other race alone                               0.175144\n",
       "dtype: float64"
      ]
     },
     "metadata": {},
     "output_type": "display_data"
    },
    {
     "data": {
      "text/plain": [
       "18 and 19 years      0.034145\n",
       "20 years             0.016142\n",
       "21 years             0.017568\n",
       "22 to 24 years       0.058904\n",
       "25 to 29 years       0.106595\n",
       "30 to 34 years       0.108266\n",
       "35 to 39 years       0.100576\n",
       "40 to 44 years       0.092443\n",
       "45 to 49 years       0.084352\n",
       "50 to 54 years       0.079435\n",
       "55 to 59 years       0.073892\n",
       "60 and 61 years      0.029753\n",
       "62 to 64 years       0.040832\n",
       "65 and 66 years      0.023922\n",
       "67 to 69 years       0.032198\n",
       "70 to 74 years       0.042584\n",
       "75 to 79 years       0.026983\n",
       "80 to 84 years       0.016337\n",
       "85 years and over    0.015073\n",
       "dtype: float64"
      ]
     },
     "metadata": {},
     "output_type": "display_data"
    },
    {
     "data": {
      "text/plain": [
       "Less than $10,000       0.055872\n",
       "$10,000 to $14,999      0.038622\n",
       "$15,000 to $19,999      0.032291\n",
       "$20,000 to $24,999      0.041885\n",
       "$25,000 to $29,999      0.038911\n",
       "$30,000 to $34,999      0.040903\n",
       "$35,000 to $39,999      0.040980\n",
       "$40,000 to $44,999      0.039419\n",
       "$45,000 to $49,999      0.039126\n",
       "$50,000 to $59,999      0.075183\n",
       "$60,000 to $74,999      0.096294\n",
       "$75,000 to $99,999      0.121657\n",
       "$100,000 to $124,999    0.087149\n",
       "$125,000 to $149,999    0.062246\n",
       "$150,000 to $199,999    0.078704\n",
       "$200,000 or more        0.110758\n",
       "dtype: float64"
      ]
     },
     "metadata": {},
     "output_type": "display_data"
    },
    {
     "data": {
      "text/plain": [
       "[None, None, None, None]"
      ]
     },
     "execution_count": 8,
     "metadata": {},
     "output_type": "execute_result"
    }
   ],
   "execution_count": 8
  },
  {
   "cell_type": "code",
   "source": [
    "display(stat_list[0])"
   ],
   "metadata": {
    "collapsed": false,
    "ExecuteTime": {
     "end_time": "2025-07-30T12:34:13.552039Z",
     "start_time": "2025-07-30T12:34:13.544908Z"
    }
   },
   "id": "18e5f8d89a56f7d3",
   "outputs": [
    {
     "data": {
      "text/plain": [
       "No schooling completed                         0.039930\n",
       "Nursery to 4th grade                           0.019994\n",
       "High school graduate (includes equivalency)    0.229646\n",
       "Some college, less than 1 year                 0.054352\n",
       "Some college, 1 or more years, no degree       0.128183\n",
       "Associate's degree                             0.069238\n",
       "Bachelor's degree                              0.200473\n",
       "Master's degree                                0.085016\n",
       "Professional school degree                     0.025779\n",
       "Doctorate degree                               0.016192\n",
       "Some Highschool                                0.131198\n",
       "dtype: float64"
      ]
     },
     "metadata": {},
     "output_type": "display_data"
    }
   ],
   "execution_count": 9
  },
  {
   "cell_type": "code",
   "source": [],
   "metadata": {
    "collapsed": false,
    "ExecuteTime": {
     "end_time": "2025-07-30T12:34:13.644152Z",
     "start_time": "2025-07-30T12:34:13.640717Z"
    }
   },
   "id": "aa7a35479f294266",
   "outputs": [],
   "execution_count": null
  },
  {
   "cell_type": "code",
   "source": [
    "df.sum()"
   ],
   "metadata": {
    "collapsed": false,
    "ExecuteTime": {
     "end_time": "2025-07-30T12:34:14.245238Z",
     "start_time": "2025-07-30T12:34:13.722124Z"
    }
   },
   "id": "20fe00e50cd086fc",
   "outputs": [
    {
     "ename": "NameError",
     "evalue": "name 'df' is not defined",
     "output_type": "error",
     "traceback": [
      "\u001B[31m---------------------------------------------------------------------------\u001B[39m",
      "\u001B[31mNameError\u001B[39m                                 Traceback (most recent call last)",
      "\u001B[36mCell\u001B[39m\u001B[36m \u001B[39m\u001B[32mIn[10]\u001B[39m\u001B[32m, line 1\u001B[39m\n\u001B[32m----> \u001B[39m\u001B[32m1\u001B[39m \u001B[43mdf\u001B[49m.sum()\n",
      "\u001B[31mNameError\u001B[39m: name 'df' is not defined"
     ]
    }
   ],
   "execution_count": 10
  },
  {
   "cell_type": "code",
   "outputs": [],
   "source": [],
   "metadata": {
    "collapsed": false
   },
   "id": "cc50f8682a8ba919",
   "execution_count": null
  },
  {
   "cell_type": "code",
   "outputs": [
    {
     "data": {
      "text/plain": "      No schooling completed  Nursery to 4th grade  \\\n0                   0.086710              0.017418   \n1                   0.057116              0.060625   \n2                   0.055556              0.011402   \n3                   0.052537              0.052537   \n4                   0.052381              0.057143   \n...                      ...                   ...   \n1106                0.014780              0.000000   \n1107                0.003414              0.004268   \n1108                0.008929              0.010541   \n1109                0.000000              0.000000   \n1110                0.000000              0.000000   \n\n      High school graduate (includes equivalency)  \\\n0                                        0.308217   \n1                                        0.356733   \n2                                        0.220524   \n3                                        0.410149   \n4                                        0.247619   \n...                                           ...   \n1106                                     0.157522   \n1107                                     0.157064   \n1108                                     0.439732   \n1109                                     0.000000   \n1110                                     0.088083   \n\n      Some college, less than 1 year  \\\n0                           0.063612   \n1                           0.042119   \n2                           0.025473   \n3                           0.045373   \n4                           0.061224   \n...                              ...   \n1106                        0.015995   \n1107                        0.084080   \n1108                        0.038318   \n1109                        0.000000   \n1110                        0.027387   \n\n      Some college, 1 or more years, no degree  Associate's degree  \\\n0                                     0.116244            0.051496   \n1                                     0.068283            0.030632   \n2                                     0.110383            0.094857   \n3                                     0.132537            0.031642   \n4                                     0.059864            0.070748   \n...                                        ...                 ...   \n1106                                  0.175137            0.055882   \n1107                                  0.167734            0.088348   \n1108                                  0.193700            0.041667   \n1109                                  0.374101            0.215827   \n1110                                  0.020725            0.068098   \n\n      Bachelor's degree  Master's degree  Professional school degree  \\\n0              0.062476         0.023097                    0.005301   \n1              0.121251         0.039885                    0.000638   \n2              0.243571         0.118147                    0.003882   \n3              0.050746         0.048358                    0.000000   \n4              0.076871         0.045578                    0.000000   \n...                 ...              ...                         ...   \n1106           0.312411         0.181616                    0.035635   \n1107           0.284251         0.115664                    0.037985   \n1108           0.048735         0.000496                    0.002480   \n1109           0.187050         0.223022                    0.000000   \n1110           0.388601         0.230200                    0.156921   \n\n      Doctorate degree  \n0             0.006058  \n1             0.000000  \n2             0.003396  \n3             0.000597  \n4             0.004762  \n...                ...  \n1106          0.023082  \n1107          0.026462  \n1108          0.000000  \n1109          0.000000  \n1110          0.019985  \n\n[1111 rows x 10 columns]",
      "text/html": "<div>\n<style scoped>\n    .dataframe tbody tr th:only-of-type {\n        vertical-align: middle;\n    }\n\n    .dataframe tbody tr th {\n        vertical-align: top;\n    }\n\n    .dataframe thead th {\n        text-align: right;\n    }\n</style>\n<table border=\"1\" class=\"dataframe\">\n  <thead>\n    <tr style=\"text-align: right;\">\n      <th></th>\n      <th>No schooling completed</th>\n      <th>Nursery to 4th grade</th>\n      <th>High school graduate (includes equivalency)</th>\n      <th>Some college, less than 1 year</th>\n      <th>Some college, 1 or more years, no degree</th>\n      <th>Associate's degree</th>\n      <th>Bachelor's degree</th>\n      <th>Master's degree</th>\n      <th>Professional school degree</th>\n      <th>Doctorate degree</th>\n    </tr>\n  </thead>\n  <tbody>\n    <tr>\n      <th>0</th>\n      <td>0.086710</td>\n      <td>0.017418</td>\n      <td>0.308217</td>\n      <td>0.063612</td>\n      <td>0.116244</td>\n      <td>0.051496</td>\n      <td>0.062476</td>\n      <td>0.023097</td>\n      <td>0.005301</td>\n      <td>0.006058</td>\n    </tr>\n    <tr>\n      <th>1</th>\n      <td>0.057116</td>\n      <td>0.060625</td>\n      <td>0.356733</td>\n      <td>0.042119</td>\n      <td>0.068283</td>\n      <td>0.030632</td>\n      <td>0.121251</td>\n      <td>0.039885</td>\n      <td>0.000638</td>\n      <td>0.000000</td>\n    </tr>\n    <tr>\n      <th>2</th>\n      <td>0.055556</td>\n      <td>0.011402</td>\n      <td>0.220524</td>\n      <td>0.025473</td>\n      <td>0.110383</td>\n      <td>0.094857</td>\n      <td>0.243571</td>\n      <td>0.118147</td>\n      <td>0.003882</td>\n      <td>0.003396</td>\n    </tr>\n    <tr>\n      <th>3</th>\n      <td>0.052537</td>\n      <td>0.052537</td>\n      <td>0.410149</td>\n      <td>0.045373</td>\n      <td>0.132537</td>\n      <td>0.031642</td>\n      <td>0.050746</td>\n      <td>0.048358</td>\n      <td>0.000000</td>\n      <td>0.000597</td>\n    </tr>\n    <tr>\n      <th>4</th>\n      <td>0.052381</td>\n      <td>0.057143</td>\n      <td>0.247619</td>\n      <td>0.061224</td>\n      <td>0.059864</td>\n      <td>0.070748</td>\n      <td>0.076871</td>\n      <td>0.045578</td>\n      <td>0.000000</td>\n      <td>0.004762</td>\n    </tr>\n    <tr>\n      <th>...</th>\n      <td>...</td>\n      <td>...</td>\n      <td>...</td>\n      <td>...</td>\n      <td>...</td>\n      <td>...</td>\n      <td>...</td>\n      <td>...</td>\n      <td>...</td>\n      <td>...</td>\n    </tr>\n    <tr>\n      <th>1106</th>\n      <td>0.014780</td>\n      <td>0.000000</td>\n      <td>0.157522</td>\n      <td>0.015995</td>\n      <td>0.175137</td>\n      <td>0.055882</td>\n      <td>0.312411</td>\n      <td>0.181616</td>\n      <td>0.035635</td>\n      <td>0.023082</td>\n    </tr>\n    <tr>\n      <th>1107</th>\n      <td>0.003414</td>\n      <td>0.004268</td>\n      <td>0.157064</td>\n      <td>0.084080</td>\n      <td>0.167734</td>\n      <td>0.088348</td>\n      <td>0.284251</td>\n      <td>0.115664</td>\n      <td>0.037985</td>\n      <td>0.026462</td>\n    </tr>\n    <tr>\n      <th>1108</th>\n      <td>0.008929</td>\n      <td>0.010541</td>\n      <td>0.439732</td>\n      <td>0.038318</td>\n      <td>0.193700</td>\n      <td>0.041667</td>\n      <td>0.048735</td>\n      <td>0.000496</td>\n      <td>0.002480</td>\n      <td>0.000000</td>\n    </tr>\n    <tr>\n      <th>1109</th>\n      <td>0.000000</td>\n      <td>0.000000</td>\n      <td>0.000000</td>\n      <td>0.000000</td>\n      <td>0.374101</td>\n      <td>0.215827</td>\n      <td>0.187050</td>\n      <td>0.223022</td>\n      <td>0.000000</td>\n      <td>0.000000</td>\n    </tr>\n    <tr>\n      <th>1110</th>\n      <td>0.000000</td>\n      <td>0.000000</td>\n      <td>0.088083</td>\n      <td>0.027387</td>\n      <td>0.020725</td>\n      <td>0.068098</td>\n      <td>0.388601</td>\n      <td>0.230200</td>\n      <td>0.156921</td>\n      <td>0.019985</td>\n    </tr>\n  </tbody>\n</table>\n<p>1111 rows × 10 columns</p>\n</div>"
     },
     "execution_count": 26,
     "metadata": {},
     "output_type": "execute_result"
    }
   ],
   "source": [
    "B.drop(columns=B.columns[[2,3,4,5,6,7]])"
   ],
   "metadata": {
    "collapsed": false,
    "ExecuteTime": {
     "end_time": "2025-07-30T12:34:14.265371700Z",
     "start_time": "2025-04-29T11:53:46.429915Z"
    }
   },
   "id": "85ffd43b97e1c2c4",
   "execution_count": 26
  },
  {
   "cell_type": "code",
   "outputs": [
    {
     "data": {
      "text/plain": "   No schooling completed  Nursery to 4th grade  5th and 6th grade  \\\n2                0.055556              0.011402           0.040029   \n3                0.052537              0.052537           0.047761   \n4                0.052381              0.057143           0.063946   \n5                0.009574              0.020017           0.000870   \n6                0.025915              0.025152           0.099848   \n7                0.012515              0.048272           0.074493   \n\n   7th and 8th grade  9th grade  10th grade  11th grade  \\\n2           0.026929   0.000000    0.009461    0.000000   \n3           0.051940   0.006567    0.008955    0.048358   \n4           0.069388   0.022449    0.035374    0.078912   \n5           0.000000   0.020888    0.011314    0.052219   \n6           0.057927   0.011433    0.028201    0.012957   \n7           0.008343   0.000000    0.036949    0.025626   \n\n   12th grade, no diploma  High school graduate (includes equivalency)  \\\n2                0.036390                                     0.220524   \n3                0.011940                                     0.410149   \n4                0.053741                                     0.247619   \n5                0.021758                                     0.410792   \n6                0.055640                                     0.415396   \n7                0.017878                                     0.304529   \n\n   Some college, less than 1 year  Some college, 1 or more years, no degree  \\\n2                        0.025473                                  0.110383   \n3                        0.045373                                  0.132537   \n4                        0.061224                                  0.059864   \n5                        0.038294                                  0.123586   \n6                        0.080030                                  0.071646   \n7                        0.010727                                  0.218713   \n\n   Associate's degree  Bachelor's degree  Master's degree  \\\n2            0.094857           0.243571         0.118147   \n3            0.031642           0.050746         0.048358   \n4            0.070748           0.076871         0.045578   \n5            0.033943           0.218451         0.038294   \n6            0.059451           0.044970         0.011433   \n7            0.125149           0.096544         0.020262   \n\n   Professional school degree  Doctorate degree  \n2                    0.003882          0.003396  \n3                    0.000000          0.000597  \n4                    0.000000          0.004762  \n5                    0.000000          0.000000  \n6                    0.000000          0.000000  \n7                    0.000000          0.000000  ",
      "text/html": "<div>\n<style scoped>\n    .dataframe tbody tr th:only-of-type {\n        vertical-align: middle;\n    }\n\n    .dataframe tbody tr th {\n        vertical-align: top;\n    }\n\n    .dataframe thead th {\n        text-align: right;\n    }\n</style>\n<table border=\"1\" class=\"dataframe\">\n  <thead>\n    <tr style=\"text-align: right;\">\n      <th></th>\n      <th>No schooling completed</th>\n      <th>Nursery to 4th grade</th>\n      <th>5th and 6th grade</th>\n      <th>7th and 8th grade</th>\n      <th>9th grade</th>\n      <th>10th grade</th>\n      <th>11th grade</th>\n      <th>12th grade, no diploma</th>\n      <th>High school graduate (includes equivalency)</th>\n      <th>Some college, less than 1 year</th>\n      <th>Some college, 1 or more years, no degree</th>\n      <th>Associate's degree</th>\n      <th>Bachelor's degree</th>\n      <th>Master's degree</th>\n      <th>Professional school degree</th>\n      <th>Doctorate degree</th>\n    </tr>\n  </thead>\n  <tbody>\n    <tr>\n      <th>2</th>\n      <td>0.055556</td>\n      <td>0.011402</td>\n      <td>0.040029</td>\n      <td>0.026929</td>\n      <td>0.000000</td>\n      <td>0.009461</td>\n      <td>0.000000</td>\n      <td>0.036390</td>\n      <td>0.220524</td>\n      <td>0.025473</td>\n      <td>0.110383</td>\n      <td>0.094857</td>\n      <td>0.243571</td>\n      <td>0.118147</td>\n      <td>0.003882</td>\n      <td>0.003396</td>\n    </tr>\n    <tr>\n      <th>3</th>\n      <td>0.052537</td>\n      <td>0.052537</td>\n      <td>0.047761</td>\n      <td>0.051940</td>\n      <td>0.006567</td>\n      <td>0.008955</td>\n      <td>0.048358</td>\n      <td>0.011940</td>\n      <td>0.410149</td>\n      <td>0.045373</td>\n      <td>0.132537</td>\n      <td>0.031642</td>\n      <td>0.050746</td>\n      <td>0.048358</td>\n      <td>0.000000</td>\n      <td>0.000597</td>\n    </tr>\n    <tr>\n      <th>4</th>\n      <td>0.052381</td>\n      <td>0.057143</td>\n      <td>0.063946</td>\n      <td>0.069388</td>\n      <td>0.022449</td>\n      <td>0.035374</td>\n      <td>0.078912</td>\n      <td>0.053741</td>\n      <td>0.247619</td>\n      <td>0.061224</td>\n      <td>0.059864</td>\n      <td>0.070748</td>\n      <td>0.076871</td>\n      <td>0.045578</td>\n      <td>0.000000</td>\n      <td>0.004762</td>\n    </tr>\n    <tr>\n      <th>5</th>\n      <td>0.009574</td>\n      <td>0.020017</td>\n      <td>0.000870</td>\n      <td>0.000000</td>\n      <td>0.020888</td>\n      <td>0.011314</td>\n      <td>0.052219</td>\n      <td>0.021758</td>\n      <td>0.410792</td>\n      <td>0.038294</td>\n      <td>0.123586</td>\n      <td>0.033943</td>\n      <td>0.218451</td>\n      <td>0.038294</td>\n      <td>0.000000</td>\n      <td>0.000000</td>\n    </tr>\n    <tr>\n      <th>6</th>\n      <td>0.025915</td>\n      <td>0.025152</td>\n      <td>0.099848</td>\n      <td>0.057927</td>\n      <td>0.011433</td>\n      <td>0.028201</td>\n      <td>0.012957</td>\n      <td>0.055640</td>\n      <td>0.415396</td>\n      <td>0.080030</td>\n      <td>0.071646</td>\n      <td>0.059451</td>\n      <td>0.044970</td>\n      <td>0.011433</td>\n      <td>0.000000</td>\n      <td>0.000000</td>\n    </tr>\n    <tr>\n      <th>7</th>\n      <td>0.012515</td>\n      <td>0.048272</td>\n      <td>0.074493</td>\n      <td>0.008343</td>\n      <td>0.000000</td>\n      <td>0.036949</td>\n      <td>0.025626</td>\n      <td>0.017878</td>\n      <td>0.304529</td>\n      <td>0.010727</td>\n      <td>0.218713</td>\n      <td>0.125149</td>\n      <td>0.096544</td>\n      <td>0.020262</td>\n      <td>0.000000</td>\n      <td>0.000000</td>\n    </tr>\n  </tbody>\n</table>\n</div>"
     },
     "execution_count": 17,
     "metadata": {},
     "output_type": "execute_result"
    }
   ],
   "source": [
    "B[2:8]"
   ],
   "metadata": {
    "collapsed": false,
    "ExecuteTime": {
     "end_time": "2025-07-30T12:34:14.266533900Z",
     "start_time": "2025-04-29T11:46:35.541977Z"
    }
   },
   "id": "d0e6519a5455b1e8",
   "execution_count": 17
  },
  {
   "cell_type": "code",
   "outputs": [
    {
     "data": {
      "text/plain": "No schooling completed                         0.039930\nNursery to 4th grade                           0.019994\n5th and 6th grade                              0.036434\n7th and 8th grade                              0.017530\n9th grade                                      0.022504\n10th grade                                     0.013743\n11th grade                                     0.016728\n12th grade, no diploma                         0.024259\nHigh school graduate (includes equivalency)    0.229646\nSome college, less than 1 year                 0.054352\nSome college, 1 or more years, no degree       0.128183\nAssociate's degree                             0.069238\nBachelor's degree                              0.200473\nMaster's degree                                0.085016\nProfessional school degree                     0.025779\nDoctorate degree                               0.016192\ndtype: float64"
     },
     "execution_count": 46,
     "metadata": {},
     "output_type": "execute_result"
    }
   ],
   "source": [
    "stat_list[0]"
   ],
   "metadata": {
    "collapsed": false,
    "ExecuteTime": {
     "end_time": "2025-07-30T12:34:14.267971200Z",
     "start_time": "2025-04-29T10:14:44.104494Z"
    }
   },
   "id": "608b506e28a3170f",
   "execution_count": 46
  },
  {
   "cell_type": "code",
   "outputs": [
    {
     "data": {
      "text/plain": "[No schooling completed                         0.039930\n Nursery to 4th grade                           0.019994\n 5th and 6th grade                              0.036434\n 7th and 8th grade                              0.017530\n 9th grade                                      0.022504\n 10th grade                                     0.013743\n 11th grade                                     0.016728\n 12th grade, no diploma                         0.024259\n High school graduate (includes equivalency)    0.229646\n Some college, less than 1 year                 0.054352\n Some college, 1 or more years, no degree       0.128183\n Associate's degree                             0.069238\n Bachelor's degree                              0.200473\n Master's degree                                0.085016\n Professional school degree                     0.025779\n Doctorate degree                               0.016192\n dtype: float64,\n White alone                                         0.490130\n Black or African American alone                     0.238123\n American Indian and Alaska Native alone             0.011002\n Asian alone                                         0.084580\n Native Hawaiian and Other Pacific Islander alone    0.001021\n Some other race alone                               0.175144\n dtype: float64,\n 18 and 19 years      0.034145\n 20 years             0.016142\n 21 years             0.017568\n 22 to 24 years       0.058904\n 25 to 29 years       0.106595\n 30 to 34 years       0.108266\n 35 to 39 years       0.100576\n 40 to 44 years       0.092443\n 45 to 49 years       0.084352\n 50 to 54 years       0.079435\n 55 to 59 years       0.073892\n 60 and 61 years      0.029753\n 62 to 64 years       0.040832\n 65 and 66 years      0.023922\n 67 to 69 years       0.032198\n 70 to 74 years       0.042584\n 75 to 79 years       0.026983\n 80 to 84 years       0.016337\n 85 years and over    0.015073\n dtype: float64,\n Less than $10,000       0.055872\n $10,000 to $14,999      0.038622\n $15,000 to $19,999      0.032291\n $20,000 to $24,999      0.041885\n $25,000 to $29,999      0.038911\n $30,000 to $34,999      0.040903\n $35,000 to $39,999      0.040980\n $40,000 to $44,999      0.039419\n $45,000 to $49,999      0.039126\n $50,000 to $59,999      0.075183\n $60,000 to $74,999      0.096294\n $75,000 to $99,999      0.121657\n $100,000 to $124,999    0.087149\n $125,000 to $149,999    0.062246\n $150,000 to $199,999    0.078704\n $200,000 or more        0.110758\n dtype: float64]"
     },
     "execution_count": 39,
     "metadata": {},
     "output_type": "execute_result"
    }
   ],
   "source": [
    "stat_list"
   ],
   "metadata": {
    "collapsed": false,
    "ExecuteTime": {
     "end_time": "2025-07-30T12:34:14.267971200Z",
     "start_time": "2025-04-29T10:04:18.071224Z"
    }
   },
   "id": "2f7e7f2d30b8d112",
   "execution_count": 39
  },
  {
   "cell_type": "code",
   "outputs": [
    {
     "data": {
      "text/plain": "              EduTotal                                                        \\\n                 count         mean         std  min     25%     50%     75%   \nCounty                                                                         \nHarris County   1111.0  1555.448245  734.014022  1.0  1069.5  1436.0  1851.5   \n\n                      No vehicle available             ... $200,000 or more  \\\n                  max                count       mean  ...              75%   \nCounty                                                 ...                    \nHarris County  9986.0               1111.0  212.50225  ...           0.1535   \n\n                        PopDense                                            \\\n                    max    count    mean       std           min       25%   \nCounty                                                                       \nHarris County  0.755984   1111.0  0.0009  0.000487  2.103129e-07  0.000598   \n\n                                             \n                    50%       75%       max  \nCounty                                       \nHarris County  0.000805  0.001078  0.007213  \n\n[1 rows x 592 columns]",
      "text/html": "<div>\n<style scoped>\n    .dataframe tbody tr th:only-of-type {\n        vertical-align: middle;\n    }\n\n    .dataframe tbody tr th {\n        vertical-align: top;\n    }\n\n    .dataframe thead tr th {\n        text-align: left;\n    }\n\n    .dataframe thead tr:last-of-type th {\n        text-align: right;\n    }\n</style>\n<table border=\"1\" class=\"dataframe\">\n  <thead>\n    <tr>\n      <th></th>\n      <th colspan=\"8\" halign=\"left\">EduTotal</th>\n      <th colspan=\"2\" halign=\"left\">No vehicle available</th>\n      <th>...</th>\n      <th colspan=\"2\" halign=\"left\">$200,000 or more</th>\n      <th colspan=\"8\" halign=\"left\">PopDense</th>\n    </tr>\n    <tr>\n      <th></th>\n      <th>count</th>\n      <th>mean</th>\n      <th>std</th>\n      <th>min</th>\n      <th>25%</th>\n      <th>50%</th>\n      <th>75%</th>\n      <th>max</th>\n      <th>count</th>\n      <th>mean</th>\n      <th>...</th>\n      <th>75%</th>\n      <th>max</th>\n      <th>count</th>\n      <th>mean</th>\n      <th>std</th>\n      <th>min</th>\n      <th>25%</th>\n      <th>50%</th>\n      <th>75%</th>\n      <th>max</th>\n    </tr>\n    <tr>\n      <th>County</th>\n      <th></th>\n      <th></th>\n      <th></th>\n      <th></th>\n      <th></th>\n      <th></th>\n      <th></th>\n      <th></th>\n      <th></th>\n      <th></th>\n      <th></th>\n      <th></th>\n      <th></th>\n      <th></th>\n      <th></th>\n      <th></th>\n      <th></th>\n      <th></th>\n      <th></th>\n      <th></th>\n      <th></th>\n    </tr>\n  </thead>\n  <tbody>\n    <tr>\n      <th>Harris County</th>\n      <td>1111.0</td>\n      <td>1555.448245</td>\n      <td>734.014022</td>\n      <td>1.0</td>\n      <td>1069.5</td>\n      <td>1436.0</td>\n      <td>1851.5</td>\n      <td>9986.0</td>\n      <td>1111.0</td>\n      <td>212.50225</td>\n      <td>...</td>\n      <td>0.1535</td>\n      <td>0.755984</td>\n      <td>1111.0</td>\n      <td>0.0009</td>\n      <td>0.000487</td>\n      <td>2.103129e-07</td>\n      <td>0.000598</td>\n      <td>0.000805</td>\n      <td>0.001078</td>\n      <td>0.007213</td>\n    </tr>\n  </tbody>\n</table>\n<p>1 rows × 592 columns</p>\n</div>"
     },
     "execution_count": 14,
     "metadata": {},
     "output_type": "execute_result"
    }
   ],
   "source": [
    "Harris_stats"
   ],
   "metadata": {
    "collapsed": false,
    "ExecuteTime": {
     "end_time": "2025-07-30T12:34:14.270648800Z",
     "start_time": "2025-04-29T09:55:37.168090Z"
    }
   },
   "id": "963b33fb86ef38c",
   "execution_count": 14
  },
  {
   "cell_type": "code",
   "outputs": [],
   "source": [
    "gdf =gpd.read_file(\"..\\ACSData\\ASC_data.gpkg\", layer='Data')"
   ],
   "metadata": {
    "collapsed": false,
    "ExecuteTime": {
     "end_time": "2025-07-30T12:34:14.271646100Z",
     "start_time": "2025-04-29T09:45:37.043112Z"
    }
   },
   "id": "c6a45c77126c01f",
   "execution_count": 7
  },
  {
   "cell_type": "code",
   "outputs": [],
   "source": [
    "gdf = gdf[gdf[\"County\"]==\"Harris County\"]"
   ],
   "metadata": {
    "collapsed": false,
    "ExecuteTime": {
     "end_time": "2025-07-30T12:34:14.273026500Z",
     "start_time": "2025-04-29T09:46:07.071461Z"
    }
   },
   "id": "bdad2152321a1894",
   "execution_count": 9
  },
  {
   "cell_type": "code",
   "outputs": [
    {
     "data": {
      "text/plain": "       State         County               NAME  EduTotal  \\\n868    Texas  Harris County  Census Tract 2104    1430.0   \n869    Texas  Harris County  Census Tract 2105    1783.0   \n870    Texas  Harris County  Census Tract 2106    2304.0   \n871    Texas  Harris County  Census Tract 2107     871.0   \n872    Texas  Harris County  Census Tract 2108     924.0   \n...      ...            ...                ...       ...   \n80834  Texas  Harris County  Census Tract 5561    1210.0   \n80835  Texas  Harris County  Census Tract 9802     105.0   \n80836  Texas  Harris County  Census Tract 9803       4.0   \n80837  Texas  Harris County  Census Tract 9804       0.0   \n80838  Texas  Harris County  Census Tract 9807    1096.0   \n\n       No vehicle available  1 vehicle available  2 vehicles available  \\\n868                   416.0               1048.0                 814.0   \n869                   768.0               1432.0                 690.0   \n870                   786.0               1394.0                2102.0   \n871                    58.0                518.0                 778.0   \n872                   332.0                896.0                 322.0   \n...                     ...                  ...                   ...   \n80834                   0.0                480.0                1362.0   \n80835                   0.0                202.0                   8.0   \n80836                   0.0                  0.0                   8.0   \n80837                   0.0                  0.0                   0.0   \n80838                 176.0               1360.0                 640.0   \n\n       3 vehicles available  4 or more vehicles available  \\\n868                   504.0                          78.0   \n869                   524.0                         152.0   \n870                   258.0                          68.0   \n871                   158.0                         230.0   \n872                   278.0                          20.0   \n...                     ...                           ...   \n80834                 442.0                         136.0   \n80835                   0.0                           0.0   \n80836                   0.0                           0.0   \n80837                   0.0                           0.0   \n80838                  16.0                           0.0   \n\n       1-person household:  ...  $40,000 to $44,999  $45,000 to $49,999  \\\n868                  349.0  ...                99.0                63.0   \n869                  421.0  ...                 0.0                72.0   \n870                  904.0  ...                79.0               101.0   \n871                  277.0  ...                21.0                27.0   \n872                  403.0  ...                78.0                 7.0   \n...                    ...  ...                 ...                 ...   \n80834                225.0  ...                27.0                 0.0   \n80835                 84.0  ...                 0.0                 0.0   \n80836                  0.0  ...                 0.0                 0.0   \n80837                  0.0  ...                 0.0                 0.0   \n80838                720.0  ...                 0.0                11.0   \n\n       $50,000 to $59,999  $60,000 to $74,999  $75,000 to $99,999  \\\n868                  66.0               136.0               209.0   \n869                 187.0               165.0               110.0   \n870                 134.0               216.0               410.0   \n871                 118.0                91.0                86.0   \n872                  72.0                41.0                96.0   \n...                   ...                 ...                 ...   \n80834                66.0                18.0               169.0   \n80835                 0.0                19.0                20.0   \n80836                 0.0                 0.0                 0.0   \n80837                 0.0                 0.0                 0.0   \n80838                10.0               129.0               114.0   \n\n       $100,000 to $124,999  $125,000 to $149,999  $150,000 to $199,999  \\\n868                    37.0                  77.0                 113.0   \n869                   152.0                  73.0                  98.0   \n870                   179.0                 235.0                 197.0   \n871                    95.0                  22.0                  52.0   \n872                    90.0                  10.0                  43.0   \n...                     ...                   ...                   ...   \n80834                 176.0                 169.0                 158.0   \n80835                  22.0                   0.0                   0.0   \n80836                   0.0                   0.0                   4.0   \n80837                   0.0                   0.0                   0.0   \n80838                  14.0                  88.0                 126.0   \n\n       $200,000 or more                                           geometry  \n868                13.0  MULTIPOLYGON (((-10614436.232 3476563.495, -10...  \n869                73.0  MULTIPOLYGON (((-10614436.232 3476563.495, -10...  \n870               216.0  MULTIPOLYGON (((-10615120.736 3477864.346, -10...  \n871                36.0  MULTIPOLYGON (((-10614397.271 3479477.734, -10...  \n872                 5.0  MULTIPOLYGON (((-10612784.028 3478928.112, -10...  \n...                 ...                                                ...  \n80834             332.0  MULTIPOLYGON (((-10634616.125 3505639.089, -10...  \n80835              44.0  MULTIPOLYGON (((-10613330.607 3473974.243, -10...  \n80836               0.0  MULTIPOLYGON (((-10619173.88 3467691.307, -106...  \n80837               0.0  MULTIPOLYGON (((-10613642.079 3468542.203, -10...  \n80838             388.0  MULTIPOLYGON (((-10616868.119 3472899.859, -10...  \n\n[1122 rows x 77 columns]",
      "text/html": "<div>\n<style scoped>\n    .dataframe tbody tr th:only-of-type {\n        vertical-align: middle;\n    }\n\n    .dataframe tbody tr th {\n        vertical-align: top;\n    }\n\n    .dataframe thead th {\n        text-align: right;\n    }\n</style>\n<table border=\"1\" class=\"dataframe\">\n  <thead>\n    <tr style=\"text-align: right;\">\n      <th></th>\n      <th>State</th>\n      <th>County</th>\n      <th>NAME</th>\n      <th>EduTotal</th>\n      <th>No vehicle available</th>\n      <th>1 vehicle available</th>\n      <th>2 vehicles available</th>\n      <th>3 vehicles available</th>\n      <th>4 or more vehicles available</th>\n      <th>1-person household:</th>\n      <th>...</th>\n      <th>$40,000 to $44,999</th>\n      <th>$45,000 to $49,999</th>\n      <th>$50,000 to $59,999</th>\n      <th>$60,000 to $74,999</th>\n      <th>$75,000 to $99,999</th>\n      <th>$100,000 to $124,999</th>\n      <th>$125,000 to $149,999</th>\n      <th>$150,000 to $199,999</th>\n      <th>$200,000 or more</th>\n      <th>geometry</th>\n    </tr>\n  </thead>\n  <tbody>\n    <tr>\n      <th>868</th>\n      <td>Texas</td>\n      <td>Harris County</td>\n      <td>Census Tract 2104</td>\n      <td>1430.0</td>\n      <td>416.0</td>\n      <td>1048.0</td>\n      <td>814.0</td>\n      <td>504.0</td>\n      <td>78.0</td>\n      <td>349.0</td>\n      <td>...</td>\n      <td>99.0</td>\n      <td>63.0</td>\n      <td>66.0</td>\n      <td>136.0</td>\n      <td>209.0</td>\n      <td>37.0</td>\n      <td>77.0</td>\n      <td>113.0</td>\n      <td>13.0</td>\n      <td>MULTIPOLYGON (((-10614436.232 3476563.495, -10...</td>\n    </tr>\n    <tr>\n      <th>869</th>\n      <td>Texas</td>\n      <td>Harris County</td>\n      <td>Census Tract 2105</td>\n      <td>1783.0</td>\n      <td>768.0</td>\n      <td>1432.0</td>\n      <td>690.0</td>\n      <td>524.0</td>\n      <td>152.0</td>\n      <td>421.0</td>\n      <td>...</td>\n      <td>0.0</td>\n      <td>72.0</td>\n      <td>187.0</td>\n      <td>165.0</td>\n      <td>110.0</td>\n      <td>152.0</td>\n      <td>73.0</td>\n      <td>98.0</td>\n      <td>73.0</td>\n      <td>MULTIPOLYGON (((-10614436.232 3476563.495, -10...</td>\n    </tr>\n    <tr>\n      <th>870</th>\n      <td>Texas</td>\n      <td>Harris County</td>\n      <td>Census Tract 2106</td>\n      <td>2304.0</td>\n      <td>786.0</td>\n      <td>1394.0</td>\n      <td>2102.0</td>\n      <td>258.0</td>\n      <td>68.0</td>\n      <td>904.0</td>\n      <td>...</td>\n      <td>79.0</td>\n      <td>101.0</td>\n      <td>134.0</td>\n      <td>216.0</td>\n      <td>410.0</td>\n      <td>179.0</td>\n      <td>235.0</td>\n      <td>197.0</td>\n      <td>216.0</td>\n      <td>MULTIPOLYGON (((-10615120.736 3477864.346, -10...</td>\n    </tr>\n    <tr>\n      <th>871</th>\n      <td>Texas</td>\n      <td>Harris County</td>\n      <td>Census Tract 2107</td>\n      <td>871.0</td>\n      <td>58.0</td>\n      <td>518.0</td>\n      <td>778.0</td>\n      <td>158.0</td>\n      <td>230.0</td>\n      <td>277.0</td>\n      <td>...</td>\n      <td>21.0</td>\n      <td>27.0</td>\n      <td>118.0</td>\n      <td>91.0</td>\n      <td>86.0</td>\n      <td>95.0</td>\n      <td>22.0</td>\n      <td>52.0</td>\n      <td>36.0</td>\n      <td>MULTIPOLYGON (((-10614397.271 3479477.734, -10...</td>\n    </tr>\n    <tr>\n      <th>872</th>\n      <td>Texas</td>\n      <td>Harris County</td>\n      <td>Census Tract 2108</td>\n      <td>924.0</td>\n      <td>332.0</td>\n      <td>896.0</td>\n      <td>322.0</td>\n      <td>278.0</td>\n      <td>20.0</td>\n      <td>403.0</td>\n      <td>...</td>\n      <td>78.0</td>\n      <td>7.0</td>\n      <td>72.0</td>\n      <td>41.0</td>\n      <td>96.0</td>\n      <td>90.0</td>\n      <td>10.0</td>\n      <td>43.0</td>\n      <td>5.0</td>\n      <td>MULTIPOLYGON (((-10612784.028 3478928.112, -10...</td>\n    </tr>\n    <tr>\n      <th>...</th>\n      <td>...</td>\n      <td>...</td>\n      <td>...</td>\n      <td>...</td>\n      <td>...</td>\n      <td>...</td>\n      <td>...</td>\n      <td>...</td>\n      <td>...</td>\n      <td>...</td>\n      <td>...</td>\n      <td>...</td>\n      <td>...</td>\n      <td>...</td>\n      <td>...</td>\n      <td>...</td>\n      <td>...</td>\n      <td>...</td>\n      <td>...</td>\n      <td>...</td>\n      <td>...</td>\n    </tr>\n    <tr>\n      <th>80834</th>\n      <td>Texas</td>\n      <td>Harris County</td>\n      <td>Census Tract 5561</td>\n      <td>1210.0</td>\n      <td>0.0</td>\n      <td>480.0</td>\n      <td>1362.0</td>\n      <td>442.0</td>\n      <td>136.0</td>\n      <td>225.0</td>\n      <td>...</td>\n      <td>27.0</td>\n      <td>0.0</td>\n      <td>66.0</td>\n      <td>18.0</td>\n      <td>169.0</td>\n      <td>176.0</td>\n      <td>169.0</td>\n      <td>158.0</td>\n      <td>332.0</td>\n      <td>MULTIPOLYGON (((-10634616.125 3505639.089, -10...</td>\n    </tr>\n    <tr>\n      <th>80835</th>\n      <td>Texas</td>\n      <td>Harris County</td>\n      <td>Census Tract 9802</td>\n      <td>105.0</td>\n      <td>0.0</td>\n      <td>202.0</td>\n      <td>8.0</td>\n      <td>0.0</td>\n      <td>0.0</td>\n      <td>84.0</td>\n      <td>...</td>\n      <td>0.0</td>\n      <td>0.0</td>\n      <td>0.0</td>\n      <td>19.0</td>\n      <td>20.0</td>\n      <td>22.0</td>\n      <td>0.0</td>\n      <td>0.0</td>\n      <td>44.0</td>\n      <td>MULTIPOLYGON (((-10613330.607 3473974.243, -10...</td>\n    </tr>\n    <tr>\n      <th>80836</th>\n      <td>Texas</td>\n      <td>Harris County</td>\n      <td>Census Tract 9803</td>\n      <td>4.0</td>\n      <td>0.0</td>\n      <td>0.0</td>\n      <td>8.0</td>\n      <td>0.0</td>\n      <td>0.0</td>\n      <td>0.0</td>\n      <td>...</td>\n      <td>0.0</td>\n      <td>0.0</td>\n      <td>0.0</td>\n      <td>0.0</td>\n      <td>0.0</td>\n      <td>0.0</td>\n      <td>0.0</td>\n      <td>4.0</td>\n      <td>0.0</td>\n      <td>MULTIPOLYGON (((-10619173.88 3467691.307, -106...</td>\n    </tr>\n    <tr>\n      <th>80837</th>\n      <td>Texas</td>\n      <td>Harris County</td>\n      <td>Census Tract 9804</td>\n      <td>0.0</td>\n      <td>0.0</td>\n      <td>0.0</td>\n      <td>0.0</td>\n      <td>0.0</td>\n      <td>0.0</td>\n      <td>0.0</td>\n      <td>...</td>\n      <td>0.0</td>\n      <td>0.0</td>\n      <td>0.0</td>\n      <td>0.0</td>\n      <td>0.0</td>\n      <td>0.0</td>\n      <td>0.0</td>\n      <td>0.0</td>\n      <td>0.0</td>\n      <td>MULTIPOLYGON (((-10613642.079 3468542.203, -10...</td>\n    </tr>\n    <tr>\n      <th>80838</th>\n      <td>Texas</td>\n      <td>Harris County</td>\n      <td>Census Tract 9807</td>\n      <td>1096.0</td>\n      <td>176.0</td>\n      <td>1360.0</td>\n      <td>640.0</td>\n      <td>16.0</td>\n      <td>0.0</td>\n      <td>720.0</td>\n      <td>...</td>\n      <td>0.0</td>\n      <td>11.0</td>\n      <td>10.0</td>\n      <td>129.0</td>\n      <td>114.0</td>\n      <td>14.0</td>\n      <td>88.0</td>\n      <td>126.0</td>\n      <td>388.0</td>\n      <td>MULTIPOLYGON (((-10616868.119 3472899.859, -10...</td>\n    </tr>\n  </tbody>\n</table>\n<p>1122 rows × 77 columns</p>\n</div>"
     },
     "execution_count": 10,
     "metadata": {},
     "output_type": "execute_result"
    }
   ],
   "source": [
    "gdf"
   ],
   "metadata": {
    "collapsed": false,
    "ExecuteTime": {
     "end_time": "2025-07-30T12:34:14.274090600Z",
     "start_time": "2025-04-29T09:46:11.510059Z"
    }
   },
   "id": "cc6b79cbac3a574d",
   "execution_count": 10
  }
 ],
 "metadata": {
  "kernelspec": {
   "display_name": "Python 3",
   "language": "python",
   "name": "python3"
  },
  "language_info": {
   "codemirror_mode": {
    "name": "ipython",
    "version": 2
   },
   "file_extension": ".py",
   "mimetype": "text/x-python",
   "name": "python",
   "nbconvert_exporter": "python",
   "pygments_lexer": "ipython2",
   "version": "2.7.6"
  }
 },
 "nbformat": 4,
 "nbformat_minor": 5
}
